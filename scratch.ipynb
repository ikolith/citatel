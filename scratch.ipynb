{
 "cells": [
  {
   "cell_type": "code",
   "execution_count": 1,
   "metadata": {},
   "outputs": [
    {
     "name": "stderr",
     "output_type": "stream",
     "text": [
      "/var/folders/83/_0vtzb0d2c1bj8sxc04n21m80000gn/T/ipykernel_54451/363497145.py:5: DeprecationWarning: \n",
      "Pyarrow will become a required dependency of pandas in the next major release of pandas (pandas 3.0),\n",
      "(to allow more performant data types, such as the Arrow string type, and better interoperability with other libraries)\n",
      "but was not found to be installed on your system.\n",
      "If this would cause problems for you,\n",
      "please provide us feedback at https://github.com/pandas-dev/pandas/issues/54466\n",
      "        \n",
      "  import pandas as pd\n"
     ]
    }
   ],
   "source": [
    "from functools import cache\n",
    "from itertools import combinations\n",
    "import os\n",
    "\n",
    "import pandas as pd\n",
    "from tinydb import Query\n",
    "\n",
    "import citutils.dice_utils as du\n",
    "from citutils.database import DB\n"
   ]
  },
  {
   "cell_type": "code",
   "execution_count": 2,
   "metadata": {},
   "outputs": [
    {
     "name": "stdout",
     "output_type": "stream",
     "text": [
      "#### Keen  \n",
      "**Requirements:** 1 PER  \n",
      "**Cost:** 4 SP  \n",
      "+2 when looking using your PER to watch for specific and brief events. You can use this to watch for a positive or negative reaction when you give another character new information, or you can watch to see if another character will try to draw a weapon, allowing you to draw yours first. Keen allows you not only to react quickly, but to anticipate actions and act first. Add +2 to your passive resistance to stealth and pickpocketing.  \n",
      "*You are able to focus your perception to a razors edge, catching the briefest movement. Like a poker player spotting the telltale dilation of pupils as a card is dealt, or a watchman high on a tower watching for movement below. When you know what you are looking for, it's almost as if time slows down for you for just a moment.*  \n",
      "\n",
      "#### Reading Lips  \n",
      "**Requirements:** 1 PER  \n",
      "**Cost:** 5 SP  \n",
      "You can read the lips of characters whose faces you can see clearly.  \n",
      "\n",
      "#### Rumination  \n",
      "**Requirements:** 0 PER  \n",
      "**Cost:** 8 SP  \n",
      "Flip a coin. On a heads, all of the puzzle pieces you have snap into place, you know where to look, you know what you're missing, you see the path to the answer. On a tails you get cryptic hints, symbols, hunches, impressions. If you get a heads but you don't have enough information, you get particularly useful hints, symbols, hunches, impressions.\n",
      "\n",
      "You cannot use Rumination during initiative. You cannot use Rumination on the same question twice. You cannot do anything complex or time sensitive while using Rumination. Once you use Rumination, you have to rest before you can use it again. You can use Rumination any time you can take a moment just to think.  \n",
      "*You deeply ponder a question. You turn what you have seen and heard over in your mind, without judgement or bias. You dredge up minute details from your memory that may have, at the time, slipped past your conscious awareness. You approach your problem from all angles, crafting and discarding theories. You are fishing for an epiphany, a sudden flash of realization.*  \n",
      "For GMs: This can be a difficult skill to work with! When a character uses this skill, they only get information that they have already seen or information that they “could” have seen. Give out new information sparingly with this ability! New pieces of information should be very small. Maybe a look from another character that didn't seem like anything at the time, but is strange or out of place in hindsight. If a player has so much information the answer is staring them in the face and they get heads, at least try to give them the information slowly so they have a chance to figure it out, maybe text it to them separately so they can present their eureka moment to the rest of the party themselves.\n",
      "\n",
      "This ability allows characters to arrange the information in front of players usefully, you get to discard some things, and focus on others. This ability is more straightforwardly useful on heads, but more interesting on tails. Tails gives the player another puzzle piece, an impression, a symbol, a hunch they can't make sense of but can't quite shake.  \n",
      "\n",
      "\n",
      "  \n",
      "\n",
      "#### Sharpshooter  \n",
      "**Requirements:** 1 PER  \n",
      "**Cost:** 7 SP  \n",
      "When making [ranged] attacks, treat your PERCEPTION as 1 higher.  \n",
      "\n",
      "#### Trick Shot  \n",
      "**Requirements:** 1 PER  \n",
      "**Cost:** 4 SP  \n",
      "+2 To-Hit when using \"Called Shot\" with a [ranged] attack.  \n",
      "\n",
      "#### Wild Conjecture  \n",
      "**Requirements:** 1 PER  \n",
      "**Cost:** 8 SP  \n",
      "First, specify a question. Next, the GM flips a coin in secret. Finally, the GM tells you what insane theory your character concocted by combining the information available to them with a liberal dose of moon logic. Your character wholeheartedly believes this theory.\n",
      "\n",
      "If the GM got a heads on the coin flip, you get a theory that is on the right track, maybe even totally correct (at least, in it's conclusions). If the GM got tails, you receive a theory that is as astoundingly incorrect as it is completely unhelpful. You can only use this skill on a question once. Once you use Wild Conjecture, you have to rest before you can use it again.  \n",
      "*You have what could be charitably described as an “unorthodox” relationship with reason. The impressive leaps of logic you are able to perform allow you to reach conclusions that lesser thinkers would never even begin to consider. Even more impressively, you're often correct!*  \n",
      "Before you take this skill, establish with the GM how you want to receive the theory. The GM could, in secret, gives you a series of “beats” to hit or facts to include along with a conclusion. Then, you roleplay and improvise the connecting tissue of the theory. Alternatively, the GM just tells you the theory. You could do something else entirely. The GM could just drop an earth shattering revelation that has a 50% chance of being false. If you're the GM and a player uses Wild Conjecture on a question they have insufficient information for and they get heads, get creative. Give them some little tidbit related to the answer, push them down the right track, confuse them. \n",
      "\n",
      " Of course your theory has a 50% chance of being right, it's either right or it's wrong! That's basic statistics!  \n",
      "\n",
      "\n",
      "  \n",
      "\n",
      "\n"
     ]
    }
   ],
   "source": [
    "db = DB(os.path.join(\"source.json\"))\n",
    "\n",
    "skill = Query().meta_tags.any(\"skill\")\n",
    "basic =  Query().meta_tags.any(\"basic\")\n",
    "\n",
    "\n",
    "\n",
    "print(db.create_query_text_section(query = basic & skill & Query().meta_tags.any(\"per\"))) # not clear any of it should be \n"
   ]
  },
  {
   "cell_type": "code",
   "execution_count": 3,
   "metadata": {},
   "outputs": [
    {
     "ename": "NameError",
     "evalue": "name 'df' is not defined",
     "output_type": "error",
     "traceback": [
      "\u001b[0;31m---------------------------------------------------------------------------\u001b[0m",
      "\u001b[0;31mNameError\u001b[0m                                 Traceback (most recent call last)",
      "Cell \u001b[0;32mIn[3], line 1\u001b[0m\n\u001b[0;32m----> 1\u001b[0m \u001b[38;5;28mprint\u001b[39m(\u001b[43mdf\u001b[49m\u001b[38;5;241m.\u001b[39mto_markdown(index\u001b[38;5;241m=\u001b[39m\u001b[38;5;28;01mFalse\u001b[39;00m))\n",
      "\u001b[0;31mNameError\u001b[0m: name 'df' is not defined"
     ]
    }
   ],
   "source": [
    "print(df.to_markdown(index=False))\n"
   ]
  },
  {
   "cell_type": "markdown",
   "metadata": {},
   "source": [
    "|   adv_level |   total_rolls |   passing_matching |   passing_halfcrit |   matching |   halfcrit |   fullcrit |    prob_pm |   prob_phc |   prob_m |    prob_hc |     prob_fc |\n",
    "|------------:|--------------:|-------------------:|-------------------:|-----------:|-----------:|-----------:|-----------:|-----------:|---------:|-----------:|------------:|\n",
    "|           3 |          7776 |               2912 |               4571 |       6230 |       4651 |       1526 | 0.374486   | 0.587834   | 0.801183 | 0.598122   | 0.196245    |\n",
    "|           2 |          1296 |                336 |                639 |        795 |        671 |        171 | 0.259259   | 0.493056   | 0.613426 | 0.517747   | 0.131944    |\n",
    "|           1 |           216 |                 32 |                 79 |         80 |         91 |         16 | 0.148148   | 0.365741   | 0.37037  | 0.421296   | 0.0740741   |\n",
    "|           0 |            36 |                  2 |                  7 |          5 |         11 |          1 | 0.0555556  | 0.194444   | 0.138889 | 0.305556   | 0.0277778   |\n",
    "|          -1 |           216 |                  5 |                 10 |         35 |         16 |          1 | 0.0231481  | 0.0462963  | 0.162037 | 0.0740741  | 0.00462963  |\n",
    "|          -2 |          1296 |                 12 |                 13 |        225 |         21 |          1 | 0.00925926 | 0.0100309  | 0.173611 | 0.0162037  | 0.000771605 |\n",
    "|          -3 |          7776 |                 27 |                 16 |       1355 |         26 |          1 | 0.00347222 | 0.00205761 | 0.174254 | 0.00334362 | 0.000128601 |"
   ]
  },
  {
   "cell_type": "markdown",
   "metadata": {},
   "source": []
  },
  {
   "cell_type": "code",
   "execution_count": null,
   "metadata": {},
   "outputs": [],
   "source": [
    "import json\n",
    "\n",
    "def add_meta_tag(data, obj_name, meta_tag):\n",
    "    if isinstance(data, dict):\n",
    "        if obj_name in data:\n",
    "            # Add meta_tag to the current object\n",
    "            data[obj_name][\"meta_tags\"].append(meta_tag)\n",
    "        \n",
    "        for key, value in data.items():\n",
    "            # Recursively go through nested objects\n",
    "            add_meta_tag(value, obj_name, meta_tag)\n",
    "    elif isinstance(data, list):\n",
    "        # Recursively go through each item in the list\n",
    "        for item in data:\n",
    "            add_meta_tag(item, obj_name, meta_tag)\n",
    "\n",
    "# Your JSON data\n",
    "json_data = {\n",
    "    \"new\": {\n",
    "        \"items\": {\n",
    "            \"the_braggart\": {\n",
    "                \"name\": \"The Braggart\",\n",
    "                \"effect\": \"A cloak with bright silver stitching.  When worn, DC 9 illusion of a full set of plate armor.\",\n",
    "                \"meta_tags\": [\"item\"]\n",
    "            },\n",
    "            # ... (other items)\n",
    "        },\n",
    "        # ... (other sections)\n",
    "    }\n",
    "}\n",
    "\n",
    "# Example usage: Add \"weapon_skill\" meta_tag to all meta_tags inside \"weapon_skills\"\n",
    "add_meta_tag(json_data, \"weapon_skills\", \"weapon_skill\")\n",
    "\n",
    "# Pretty print the updated JSON\n",
    "print(json.dumps(json_data, indent=2))"
   ]
  }
 ],
 "metadata": {
  "kernelspec": {
   "display_name": ".venv",
   "language": "python",
   "name": "python3"
  },
  "language_info": {
   "codemirror_mode": {
    "name": "ipython",
    "version": 3
   },
   "file_extension": ".py",
   "mimetype": "text/x-python",
   "name": "python",
   "nbconvert_exporter": "python",
   "pygments_lexer": "ipython3",
   "version": "3.11.7"
  }
 },
 "nbformat": 4,
 "nbformat_minor": 2
}
