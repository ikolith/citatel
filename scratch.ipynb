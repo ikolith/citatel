{
 "cells": [
  {
   "cell_type": "code",
   "execution_count": 1,
   "metadata": {},
   "outputs": [
    {
     "name": "stderr",
     "output_type": "stream",
     "text": [
      "/var/folders/83/_0vtzb0d2c1bj8sxc04n21m80000gn/T/ipykernel_18642/3418367458.py:4: DeprecationWarning: \n",
      "Pyarrow will become a required dependency of pandas in the next major release of pandas (pandas 3.0),\n",
      "(to allow more performant data types, such as the Arrow string type, and better interoperability with other libraries)\n",
      "but was not found to be installed on your system.\n",
      "If this would cause problems for you,\n",
      "please provide us feedback at https://github.com/pandas-dev/pandas/issues/54466\n",
      "        \n",
      "  import pandas as pd\n"
     ]
    },
    {
     "data": {
      "text/plain": [
       "{2: [(1, 1)],\n",
       " 3: [(1, 2), (2, 1)],\n",
       " 4: [(1, 3), (2, 2), (3, 1)],\n",
       " 5: [(1, 4), (2, 3), (3, 2), (4, 1)],\n",
       " 6: [(1, 5), (2, 4), (3, 3), (4, 2), (5, 1)],\n",
       " 7: [(1, 6), (2, 5), (3, 4), (4, 3), (5, 2), (6, 1)],\n",
       " 8: [(2, 6), (3, 5), (4, 4), (5, 3), (6, 2)],\n",
       " 9: [(3, 6), (4, 5), (5, 4), (6, 3)],\n",
       " 10: [(4, 6), (5, 5), (6, 4)],\n",
       " 11: [(5, 6), (6, 5)],\n",
       " 12: [(6, 6)]}"
      ]
     },
     "execution_count": 1,
     "metadata": {},
     "output_type": "execute_result"
    }
   ],
   "source": [
    "from functools import cache\n",
    "from itertools import combinations\n",
    "\n",
    "import pandas as pd\n",
    "\n",
    "import citutils.dice_utils as du\n",
    "\n",
    "du.all_rolls([6,6])"
   ]
  },
  {
   "cell_type": "code",
   "execution_count": 3,
   "metadata": {},
   "outputs": [
    {
     "name": "stdout",
     "output_type": "stream",
     "text": [
      "   adv_level  total_rolls  passing_matching  matching  halfcrit  fullcrit  \\\n",
      "5          3         7776              4158      7056      4651      1526   \n",
      "3          2         1296               495       936       671       171   \n",
      "1          1          216                48        96        91        16   \n",
      "0          0           36                 3         6        11         1   \n",
      "2         -1          216                12        51        16         1   \n",
      "4         -2         1296                45       396        21         1   \n",
      "6         -3         7776               158      2881        26         1   \n",
      "\n",
      "    prop_pm    prop_m   prop_hc   prop_fc  \n",
      "5  0.534722  0.907407  0.598122  0.196245  \n",
      "3  0.381944  0.722222  0.517747  0.131944  \n",
      "1  0.222222  0.444444  0.421296  0.074074  \n",
      "0  0.083333  0.166667  0.305556  0.027778  \n",
      "2  0.055556  0.236111  0.074074  0.004630  \n",
      "4  0.034722  0.305556  0.016204  0.000772  \n",
      "6  0.020319  0.370499  0.003344  0.000129  \n"
     ]
    }
   ],
   "source": [
    "df = pd.DataFrame(du.check_conditions(3))\n",
    "df = df.sort_values(by='adv_level', ascending=False)\n",
    "df[\"prop_pm\"] = df[\"passing_matching\"] / df[\"total_rolls\"]\n",
    "df[\"prop_m\"] = df[\"matching\"] / df[\"total_rolls\"]\n",
    "df[\"prop_hc\"] = df[\"halfcrit\"] / df[\"total_rolls\"]\n",
    "df[\"prop_fc\"] = df[\"fullcrit\"] / df[\"total_rolls\"]\n",
    "\n",
    "print(df)"
   ]
  },
  {
   "cell_type": "code",
   "execution_count": 4,
   "metadata": {},
   "outputs": [
    {
     "data": {
      "text/plain": [
       "'\\\\begin{tabular}{lrrrrrrrrrr}\\n\\\\toprule\\n & adv_level & total_rolls & passing_matching & matching & halfcrit & fullcrit & prop_pm & prop_m & prop_hc & prop_fc \\\\\\\\\\n\\\\midrule\\n5 & 3 & 7776 & 4158 & 7056 & 4651 & 1526 & 0.534722 & 0.907407 & 0.598122 & 0.196245 \\\\\\\\\\n3 & 2 & 1296 & 495 & 936 & 671 & 171 & 0.381944 & 0.722222 & 0.517747 & 0.131944 \\\\\\\\\\n1 & 1 & 216 & 48 & 96 & 91 & 16 & 0.222222 & 0.444444 & 0.421296 & 0.074074 \\\\\\\\\\n0 & 0 & 36 & 3 & 6 & 11 & 1 & 0.083333 & 0.166667 & 0.305556 & 0.027778 \\\\\\\\\\n2 & -1 & 216 & 12 & 51 & 16 & 1 & 0.055556 & 0.236111 & 0.074074 & 0.004630 \\\\\\\\\\n4 & -2 & 1296 & 45 & 396 & 21 & 1 & 0.034722 & 0.305556 & 0.016204 & 0.000772 \\\\\\\\\\n6 & -3 & 7776 & 158 & 2881 & 26 & 1 & 0.020319 & 0.370499 & 0.003344 & 0.000129 \\\\\\\\\\n\\\\bottomrule\\n\\\\end{tabular}\\n'"
      ]
     },
     "execution_count": 4,
     "metadata": {},
     "output_type": "execute_result"
    }
   ],
   "source": [
    "df.to_latex()"
   ]
  },
  {
   "cell_type": "code",
   "execution_count": null,
   "metadata": {},
   "outputs": [],
   "source": []
  }
 ],
 "metadata": {
  "kernelspec": {
   "display_name": ".venv",
   "language": "python",
   "name": "python3"
  },
  "language_info": {
   "codemirror_mode": {
    "name": "ipython",
    "version": 3
   },
   "file_extension": ".py",
   "mimetype": "text/x-python",
   "name": "python",
   "nbconvert_exporter": "python",
   "pygments_lexer": "ipython3",
   "version": "3.11.7"
  }
 },
 "nbformat": 4,
 "nbformat_minor": 2
}
