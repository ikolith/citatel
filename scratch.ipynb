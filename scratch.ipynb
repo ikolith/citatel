{
 "cells": [
  {
   "cell_type": "code",
   "execution_count": 6,
   "metadata": {},
   "outputs": [],
   "source": [
    "from functools import cache\n",
    "from itertools import combinations\n",
    "import os\n",
    "\n",
    "import pandas as pd\n",
    "from tinydb import Query\n",
    "\n",
    "import citutils.dice_utils as du\n",
    "from citutils.database import DB\n"
   ]
  },
  {
   "cell_type": "code",
   "execution_count": 7,
   "metadata": {},
   "outputs": [
    {
     "name": "stdout",
     "output_type": "stream",
     "text": [
      "#### Adrenaline  \n",
      "**Requirements:** 1 WIL  \n",
      "**Cost:** 5 SP  \n",
      "Don't suffer the penalties of [exhaustion] incurred during initiative until initiative ends. You can't take more stacks of [exhaustion] this way than what it would take to cause you to fall [unconscious].  \n",
      "\n",
      "#### Heroic Effort  \n",
      "**Requirements:** 0 WIL  \n",
      "**Cost:** 5 SP  \n",
      "Take 1 [exhaustion]. Get advantage on your next check.  \n",
      "\n",
      "#### Indefatigable  \n",
      "**Requirements:** 1 WIL  \n",
      "**Cost:** 8 SP  \n",
      "When you would take a point of [exhaustion], flip a coin. On heads, don't.  \n",
      "\n",
      "#### Strain  \n",
      "**Requirements:** 0 WIL  \n",
      "**Cost:** 5 SP  \n",
      "Take 1 [exhaustion]. Get 1 Temp AP.  \n",
      "\n",
      "#### Tenacity  \n",
      "**Requirements:** 0 WIL  \n",
      "**Cost:** 5 SP  \n",
      "Take 1 [exhaustion]. Reroll any damage, check, or contest die.  \n",
      "\n",
      "\n"
     ]
    }
   ],
   "source": [
    "db = DB(os.path.join(\"source.json\"))\n",
    "\n",
    "skill = Query().meta_tags.any(\"skill\")\n",
    "basic =  Query().meta_tags.any(\"basic\")\n",
    "\n",
    "\n",
    "\n",
    "print(db.create_query_text_section(query = basic & skill & Query().meta_tags.any(\"wil\"))) # not clear any of it should be \n"
   ]
  },
  {
   "cell_type": "code",
   "execution_count": 8,
   "metadata": {},
   "outputs": [
    {
     "name": "stdout",
     "output_type": "stream",
     "text": [
      "|   adv_level |   total_rolls |   passing_matching |   passing_halfcrit |   matching |   halfcrit |   fullcrit |    prob_pm |   prob_phc |   prob_m |    prob_hc |     prob_fc |\n",
      "|------------:|--------------:|-------------------:|-------------------:|-----------:|-----------:|-----------:|-----------:|-----------:|---------:|-----------:|------------:|\n",
      "|           3 |          7776 |               2912 |               4571 |       6230 |       4651 |       1526 | 0.374486   | 0.587834   | 0.801183 | 0.598122   | 0.196245    |\n",
      "|           2 |          1296 |                336 |                639 |        795 |        671 |        171 | 0.259259   | 0.493056   | 0.613426 | 0.517747   | 0.131944    |\n",
      "|           1 |           216 |                 32 |                 79 |         80 |         91 |         16 | 0.148148   | 0.365741   | 0.37037  | 0.421296   | 0.0740741   |\n",
      "|           0 |            36 |                  2 |                  7 |          5 |         11 |          1 | 0.0555556  | 0.194444   | 0.138889 | 0.305556   | 0.0277778   |\n",
      "|          -1 |           216 |                  5 |                 10 |         35 |         16 |          1 | 0.0231481  | 0.0462963  | 0.162037 | 0.0740741  | 0.00462963  |\n",
      "|          -2 |          1296 |                 12 |                 13 |        225 |         21 |          1 | 0.00925926 | 0.0100309  | 0.173611 | 0.0162037  | 0.000771605 |\n",
      "|          -3 |          7776 |                 27 |                 16 |       1355 |         26 |          1 | 0.00347222 | 0.00205761 | 0.174254 | 0.00334362 | 0.000128601 |\n"
     ]
    }
   ],
   "source": [
    "print(df.to_markdown(index=False))\n"
   ]
  },
  {
   "cell_type": "markdown",
   "metadata": {},
   "source": [
    "|   adv_level |   total_rolls |   passing_matching |   passing_halfcrit |   matching |   halfcrit |   fullcrit |    prob_pm |   prob_phc |   prob_m |    prob_hc |     prob_fc |\n",
    "|------------:|--------------:|-------------------:|-------------------:|-----------:|-----------:|-----------:|-----------:|-----------:|---------:|-----------:|------------:|\n",
    "|           3 |          7776 |               2912 |               4571 |       6230 |       4651 |       1526 | 0.374486   | 0.587834   | 0.801183 | 0.598122   | 0.196245    |\n",
    "|           2 |          1296 |                336 |                639 |        795 |        671 |        171 | 0.259259   | 0.493056   | 0.613426 | 0.517747   | 0.131944    |\n",
    "|           1 |           216 |                 32 |                 79 |         80 |         91 |         16 | 0.148148   | 0.365741   | 0.37037  | 0.421296   | 0.0740741   |\n",
    "|           0 |            36 |                  2 |                  7 |          5 |         11 |          1 | 0.0555556  | 0.194444   | 0.138889 | 0.305556   | 0.0277778   |\n",
    "|          -1 |           216 |                  5 |                 10 |         35 |         16 |          1 | 0.0231481  | 0.0462963  | 0.162037 | 0.0740741  | 0.00462963  |\n",
    "|          -2 |          1296 |                 12 |                 13 |        225 |         21 |          1 | 0.00925926 | 0.0100309  | 0.173611 | 0.0162037  | 0.000771605 |\n",
    "|          -3 |          7776 |                 27 |                 16 |       1355 |         26 |          1 | 0.00347222 | 0.00205761 | 0.174254 | 0.00334362 | 0.000128601 |"
   ]
  },
  {
   "cell_type": "markdown",
   "metadata": {},
   "source": []
  },
  {
   "cell_type": "code",
   "execution_count": null,
   "metadata": {},
   "outputs": [],
   "source": [
    "import json\n",
    "\n",
    "def add_meta_tag(data, obj_name, meta_tag):\n",
    "    if isinstance(data, dict):\n",
    "        if obj_name in data:\n",
    "            # Add meta_tag to the current object\n",
    "            data[obj_name][\"meta_tags\"].append(meta_tag)\n",
    "        \n",
    "        for key, value in data.items():\n",
    "            # Recursively go through nested objects\n",
    "            add_meta_tag(value, obj_name, meta_tag)\n",
    "    elif isinstance(data, list):\n",
    "        # Recursively go through each item in the list\n",
    "        for item in data:\n",
    "            add_meta_tag(item, obj_name, meta_tag)\n",
    "\n",
    "# Your JSON data\n",
    "json_data = {\n",
    "    \"new\": {\n",
    "        \"items\": {\n",
    "            \"the_braggart\": {\n",
    "                \"name\": \"The Braggart\",\n",
    "                \"effect\": \"A cloak with bright silver stitching.  When worn, DC 9 illusion of a full set of plate armor.\",\n",
    "                \"meta_tags\": [\"item\"]\n",
    "            },\n",
    "            # ... (other items)\n",
    "        },\n",
    "        # ... (other sections)\n",
    "    }\n",
    "}\n",
    "\n",
    "# Example usage: Add \"weapon_skill\" meta_tag to all meta_tags inside \"weapon_skills\"\n",
    "add_meta_tag(json_data, \"weapon_skills\", \"weapon_skill\")\n",
    "\n",
    "# Pretty print the updated JSON\n",
    "print(json.dumps(json_data, indent=2))"
   ]
  }
 ],
 "metadata": {
  "kernelspec": {
   "display_name": ".venv",
   "language": "python",
   "name": "python3"
  },
  "language_info": {
   "codemirror_mode": {
    "name": "ipython",
    "version": 3
   },
   "file_extension": ".py",
   "mimetype": "text/x-python",
   "name": "python",
   "nbconvert_exporter": "python",
   "pygments_lexer": "ipython3",
   "version": "3.11.7"
  }
 },
 "nbformat": 4,
 "nbformat_minor": 2
}
