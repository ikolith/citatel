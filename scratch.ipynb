{
 "cells": [
  {
   "cell_type": "code",
   "execution_count": 4,
   "metadata": {},
   "outputs": [],
   "source": [
    "from functools import cache\n",
    "from itertools import combinations\n",
    "\n",
    "import pandas as pd\n",
    "\n",
    "import citutils.dice_utils as du"
   ]
  },
  {
   "cell_type": "code",
   "execution_count": 7,
   "metadata": {},
   "outputs": [],
   "source": [
    "df = du.check_conditions(3,9)"
   ]
  },
  {
   "cell_type": "code",
   "execution_count": 8,
   "metadata": {},
   "outputs": [
    {
     "name": "stdout",
     "output_type": "stream",
     "text": [
      "|   adv_level |   total_rolls |   passing_matching |   passing_halfcrit |   matching |   halfcrit |   fullcrit |    prob_pm |   prob_phc |   prob_m |    prob_hc |     prob_fc |\n",
      "|------------:|--------------:|-------------------:|-------------------:|-----------:|-----------:|-----------:|-----------:|-----------:|---------:|-----------:|------------:|\n",
      "|           3 |          7776 |               2912 |               4571 |       6230 |       4651 |       1526 | 0.374486   | 0.587834   | 0.801183 | 0.598122   | 0.196245    |\n",
      "|           2 |          1296 |                336 |                639 |        795 |        671 |        171 | 0.259259   | 0.493056   | 0.613426 | 0.517747   | 0.131944    |\n",
      "|           1 |           216 |                 32 |                 79 |         80 |         91 |         16 | 0.148148   | 0.365741   | 0.37037  | 0.421296   | 0.0740741   |\n",
      "|           0 |            36 |                  2 |                  7 |          5 |         11 |          1 | 0.0555556  | 0.194444   | 0.138889 | 0.305556   | 0.0277778   |\n",
      "|          -1 |           216 |                  5 |                 10 |         35 |         16 |          1 | 0.0231481  | 0.0462963  | 0.162037 | 0.0740741  | 0.00462963  |\n",
      "|          -2 |          1296 |                 12 |                 13 |        225 |         21 |          1 | 0.00925926 | 0.0100309  | 0.173611 | 0.0162037  | 0.000771605 |\n",
      "|          -3 |          7776 |                 27 |                 16 |       1355 |         26 |          1 | 0.00347222 | 0.00205761 | 0.174254 | 0.00334362 | 0.000128601 |\n"
     ]
    }
   ],
   "source": [
    "print(df.to_markdown(index=False))\n"
   ]
  },
  {
   "cell_type": "markdown",
   "metadata": {},
   "source": [
    "|   adv_level |   total_rolls |   passing_matching |   passing_halfcrit |   matching |   halfcrit |   fullcrit |    prob_pm |   prob_phc |   prob_m |    prob_hc |     prob_fc |\n",
    "|------------:|--------------:|-------------------:|-------------------:|-----------:|-----------:|-----------:|-----------:|-----------:|---------:|-----------:|------------:|\n",
    "|           3 |          7776 |               2912 |               4571 |       6230 |       4651 |       1526 | 0.374486   | 0.587834   | 0.801183 | 0.598122   | 0.196245    |\n",
    "|           2 |          1296 |                336 |                639 |        795 |        671 |        171 | 0.259259   | 0.493056   | 0.613426 | 0.517747   | 0.131944    |\n",
    "|           1 |           216 |                 32 |                 79 |         80 |         91 |         16 | 0.148148   | 0.365741   | 0.37037  | 0.421296   | 0.0740741   |\n",
    "|           0 |            36 |                  2 |                  7 |          5 |         11 |          1 | 0.0555556  | 0.194444   | 0.138889 | 0.305556   | 0.0277778   |\n",
    "|          -1 |           216 |                  5 |                 10 |         35 |         16 |          1 | 0.0231481  | 0.0462963  | 0.162037 | 0.0740741  | 0.00462963  |\n",
    "|          -2 |          1296 |                 12 |                 13 |        225 |         21 |          1 | 0.00925926 | 0.0100309  | 0.173611 | 0.0162037  | 0.000771605 |\n",
    "|          -3 |          7776 |                 27 |                 16 |       1355 |         26 |          1 | 0.00347222 | 0.00205761 | 0.174254 | 0.00334362 | 0.000128601 |"
   ]
  },
  {
   "cell_type": "markdown",
   "metadata": {},
   "source": []
  },
  {
   "cell_type": "markdown",
   "metadata": {},
   "source": []
  }
 ],
 "metadata": {
  "kernelspec": {
   "display_name": ".venv",
   "language": "python",
   "name": "python3"
  },
  "language_info": {
   "codemirror_mode": {
    "name": "ipython",
    "version": 3
   },
   "file_extension": ".py",
   "mimetype": "text/x-python",
   "name": "python",
   "nbconvert_exporter": "python",
   "pygments_lexer": "ipython3",
   "version": "3.11.7"
  }
 },
 "nbformat": 4,
 "nbformat_minor": 2
}
