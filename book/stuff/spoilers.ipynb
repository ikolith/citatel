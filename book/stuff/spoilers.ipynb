{
  "cells": [
    {
      "cell_type": "raw",
      "metadata": {},
      "source": [
        "---\n",
        "title: \"Spoilers\"\n",
        "execute:\n",
        "    echo: false\n",
        "    output: asis\n",
        "---"
      ],
      "id": "cf92856b"
    },
    {
      "cell_type": "code",
      "metadata": {},
      "source": [
        "import os\n",
        "\n",
        "from tinydb import Query\n",
        "\n",
        "from citutils import docs as dc\n",
        "from citutils.database import create_tinydb\n",
        "\n",
        "db = create_tinydb(os.path.join(\"..\",\"..\",\"source.json\"))\n",
        "basic =  Query().meta_tags.any(\"basic\")\n",
        "item = Query().meta_tags.any(\"item\")\n",
        "weapon = Query().meta_tags.any(\"weapon\")\n",
        "skill = Query().meta_tags.any(\"skill\")\n",
        "\n",
        "\n",
        "print(\"## Skills\")\n",
        "print(dc.create_query_section(query = skill & ~basic, sort = False))\n",
        "print(\"## Weapons\")\n",
        "print(dc.create_query_section(query = weapon & ~basic))\n",
        "print(\"## Items\")\n",
        "print(dc.create_query_section(query = item & ~basic))"
      ],
      "id": "abf960e6",
      "execution_count": null,
      "outputs": []
    }
  ],
  "metadata": {
    "kernelspec": {
      "name": "python3",
      "language": "python",
      "display_name": "Python 3 (ipykernel)"
    }
  },
  "nbformat": 4,
  "nbformat_minor": 5
}