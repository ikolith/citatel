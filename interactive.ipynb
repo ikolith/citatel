{
 "cells": [
  {
   "cell_type": "markdown",
   "metadata": {},
   "source": [
    "## TODO:\n",
    "\n",
    "mypy type checking specific for tinydb??\n",
    "https://tinydb.readthedocs.io/en/latest/usage.html#mypy-type-checking\n",
    "\n",
    "make this standard\n",
    "https://emekdahl.medium.com/how-to-lint-your-jupyter-notebook-with-python-black-70a7deb45734\n",
    "\n",
    "### oct 3\n",
    "\n",
    "Potentially: A user should be able to just type in a comma separated list of generic filtering params, ignore what fields these belong to. just be able to type in \"weapon, hilted, basic, range: close\" mixing meta-tags, matching to names... it should act as a sort of sql LIKE that ignore special characters. Generally, consider more sql LIKE stuff, maybe thats what the textinput fields should default to?\n",
    "\n",
    "Add an ALL option, to just get a collection of ALL\n",
    "\n",
    "being able to exlclude tags would be nice... should consider just making available a sort of query cookbook, because making UIs for this all would be annoying, unless the UI generation funcs got a lot better i guess! similar to scripts.ipynb\n",
    "\n",
    "create some random encounter etc. generators using the \"table:\" system in json\n",
    "\n",
    "The ipynb UI should all be in one tabbed container. \n",
    "\n",
    "bring back the dice utils!\n",
    "\n",
    "### oct 3\n",
    "\n",
    "Add a bigtable meta-tag that marks when a table is too large for normal cards."
   ]
  },
  {
   "cell_type": "markdown",
   "metadata": {},
   "source": []
  },
  {
   "cell_type": "code",
   "execution_count": 1,
   "metadata": {},
   "outputs": [],
   "source": [
    "# imports\n",
    "from IPython.display import display\n",
    "import ipywidgets as widgets"
   ]
  },
  {
   "cell_type": "markdown",
   "metadata": {},
   "source": [
    "## Usage\n",
    "\n",
    "This Jupyter Notebook allows you to run code snippets in the browser. It uses TinyDB to handle searching and filtering entities (weapons, npcs, items, etc). TinyDB is not used to insert new entities or update existing ones. It is more annoying to do these things through TinyDB than just editing the `db.json` directly. "
   ]
  },
  {
   "cell_type": "markdown",
   "metadata": {},
   "source": [
    "**Initialize Default DB**"
   ]
  },
  {
   "cell_type": "code",
   "execution_count": 2,
   "metadata": {},
   "outputs": [],
   "source": [
    "from citutils.database import create_tinydb\n",
    "\n",
    "db = create_tinydb()"
   ]
  },
  {
   "cell_type": "code",
   "execution_count": 3,
   "metadata": {},
   "outputs": [
    {
     "data": {
      "application/vnd.jupyter.widget-view+json": {
       "model_id": "354b6a56f0e545ed97fb0adad8e03e51",
       "version_major": 2,
       "version_minor": 0
      },
      "text/plain": [
       "Tab(children=(VBox(children=(Text(value='', description='Name of Collection To Create', style=TextStyle(descri…"
      ]
     },
     "execution_count": 3,
     "metadata": {},
     "output_type": "execute_result"
    }
   ],
   "source": [
    "import citutils.notebook as nt\n",
    "import citutils.database as dt\n",
    "\n",
    "filter_ui = nt.create_filter_ui(\n",
    "    db, nt.entity_dict, dt.get_unique_array_field_values(db), preselect_basic=True\n",
    ")\n",
    "collection_lb = nt.create_cards_ui()\n",
    "single_curly_ui = nt.create_single_curly_ui(db)\n",
    "\n",
    "tabs = widgets.Tab()\n",
    "tabs.children = [filter_ui, collection_lb, single_curly_ui]\n",
    "tabs.titles = (\"Filter UI\",\"Collection Creation\",\"Single Curly Parser\")\n",
    "tabs"
   ]
  },
  {
   "cell_type": "code",
   "execution_count": 4,
   "metadata": {},
   "outputs": [],
   "source": [
    "# all the cards\n",
    "\n",
    "from citutils.cards import generate_cards\n",
    "from citutils.database import create_tinydb\n",
    "\n",
    "\n",
    "db = create_tinydb()\n",
    "generate_cards(db.all())"
   ]
  }
 ],
 "metadata": {
  "kernelspec": {
   "display_name": ".venv",
   "language": "python",
   "name": "python3"
  },
  "language_info": {
   "codemirror_mode": {
    "name": "ipython",
    "version": 3
   },
   "file_extension": ".py",
   "mimetype": "text/x-python",
   "name": "python",
   "nbconvert_exporter": "python",
   "pygments_lexer": "ipython3",
   "version": "3.10.7"
  },
  "orig_nbformat": 4
 },
 "nbformat": 4,
 "nbformat_minor": 2
}
