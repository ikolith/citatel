{
 "cells": [
  {
   "cell_type": "markdown",
   "metadata": {},
   "source": [
    "## TODO:\n",
    "\n",
    "mypy type checking specific for tinydb??\n",
    "https://tinydb.readthedocs.io/en/latest/usage.html#mypy-type-checking\n",
    "\n",
    "make this standard\n",
    "https://emekdahl.medium.com/how-to-lint-your-jupyter-notebook-with-python-black-70a7deb45734\n",
    "\n",
    "### oct 3\n",
    "\n",
    "Potentially: A user should be able to just type in a comma separated list of generic filtering params, ignore what fields these belong to. just be able to type in \"weapon, hilted, basic, range: close\" mixing meta-tags, matching to names... it should act as a sort of sql LIKE that ignore special characters. Generally, consider more sql LIKE stuff, maybe thats what the textinput fields should default to?\n",
    "\n",
    "Add an ALL option, to just get a collection of ALL\n",
    "\n",
    "being able to exlclude tags would be nice... should consider just making available a sort of query cookbook, because making UIs for this all would be annoying, unless the UI generation funcs got a lot better i guess! similar to scripts.ipynb\n",
    "\n",
    "create some random encounter etc. generators using the \"table:\" system in json\n",
    "\n",
    "bring back the dice utils!\n",
    "\n",
    "### oct 3\n",
    "\n",
    "Add a bigtable meta-tag that marks when a table is too large for normal cards.\n",
    "\n",
    "### oct 5\n",
    "\n",
    "dont allow latex to do th-  \n",
    "is sort of thing.\n",
    "\n",
    "Create a veteran skill that lets you slowly gain advantages against particular enemies and/or humanoids generally.\n",
    "\n",
    "Encumbrance should be on the top of the card, ideally with those circle icons so they can be stacked together\n",
    "\n",
    "The \"Stuff\" pages are broken. generally, site needs to be written\n",
    "\n",
    "Check on grappling rules! should take like 2 AP at least\n",
    "\n",
    "add an active meta-tag for:  deprecated\n",
    "\n",
    "check on full_text, make sure it works like it should\n",
    "\n",
    "make the weeping greatclub, red peeler? what do you call it, hunting net\n",
    "\n",
    "create some reference material for how hard to kill, like the actlite sheet\n",
    "\n",
    "make poisoned blowgun\n",
    "\n",
    "meta-tag invocation should do something, and target only matters for invocatoins\n",
    "\n",
    "\\d[stealth] should probably not be a tag and we should rely on range: close\n",
    "\n",
    "maybe entities should be underlined\n",
    "\n",
    "maybe a spear skill that lets you use defensive perimeter instantly spending from the deck, and also breaks charges better.. at least half crit??\n",
    "\n",
    "need to make all those isopod items...\n",
    "\n",
    "need to make a hunting knife\\{}"
   ]
  },
  {
   "cell_type": "markdown",
   "metadata": {},
   "source": []
  },
  {
   "cell_type": "code",
   "execution_count": 1,
   "metadata": {},
   "outputs": [],
   "source": [
    "# imports\n",
    "from IPython.display import display\n",
    "import ipywidgets as widgets"
   ]
  },
  {
   "cell_type": "markdown",
   "metadata": {},
   "source": [
    "## Usage\n",
    "\n",
    "This Jupyter Notebook allows you to run code snippets in the browser. It uses TinyDB to handle searching and filtering entities (weapons, npcs, items, etc). TinyDB is not used to insert new entities or update existing ones. It is more annoying to do these things through TinyDB than just editing the `db.json` directly. "
   ]
  },
  {
   "cell_type": "markdown",
   "metadata": {},
   "source": [
    "**Initialize Default DB**"
   ]
  },
  {
   "cell_type": "code",
   "execution_count": 2,
   "metadata": {},
   "outputs": [],
   "source": [
    "from citutils.database import create_tinydb\n",
    "\n",
    "db = create_tinydb()"
   ]
  },
  {
   "cell_type": "code",
   "execution_count": 3,
   "metadata": {},
   "outputs": [
    {
     "data": {
      "application/vnd.jupyter.widget-view+json": {
       "model_id": "80172fad54f248d18c77593015c24166",
       "version_major": 2,
       "version_minor": 0
      },
      "text/plain": [
       "VBox(children=(Text(value='', description='Name of Collection To Create', style=TextStyle(description_width='i…"
      ]
     },
     "metadata": {},
     "output_type": "display_data"
    }
   ],
   "source": [
    "import citutils.notebook as nt\n",
    "import citutils.database as dt\n",
    "\n",
    "nt.create_filter_ui(\n",
    "    db, nt.entity_dict, dt.get_unique_array_field_values(db), preselect_basic=True\n",
    ")"
   ]
  },
  {
   "cell_type": "code",
   "execution_count": 4,
   "metadata": {},
   "outputs": [
    {
     "data": {
      "application/vnd.jupyter.widget-view+json": {
       "model_id": "a750e754bd0f4e14b58e0bb9057df991",
       "version_major": 2,
       "version_minor": 0
      },
      "text/plain": [
       "Text(value='basic', description='Collection -> Cards', style=TextStyle(description_width='initial'))"
      ]
     },
     "metadata": {},
     "output_type": "display_data"
    },
    {
     "data": {
      "application/vnd.jupyter.widget-view+json": {
       "model_id": "9f5dbea511a440d0a873d268f0fcfd93",
       "version_major": 2,
       "version_minor": 0
      },
      "text/plain": [
       "LoadedButton(description='Submit', style=ButtonStyle())"
      ]
     },
     "metadata": {},
     "output_type": "display_data"
    },
    {
     "data": {
      "application/vnd.jupyter.widget-view+json": {
       "model_id": "e1245cac804e45e89d30a54db82d339b",
       "version_major": 2,
       "version_minor": 0
      },
      "text/plain": [
       "Output()"
      ]
     },
     "metadata": {},
     "output_type": "display_data"
    },
    {
     "name": "stdout",
     "output_type": "stream",
     "text": [
      "Cards available at output/cards.pdf\n"
     ]
    }
   ],
   "source": [
    "collection_lb = nt.create_cards_ui()"
   ]
  },
  {
   "cell_type": "code",
   "execution_count": 5,
   "metadata": {},
   "outputs": [
    {
     "data": {
      "application/vnd.jupyter.widget-view+json": {
       "model_id": "428f1a0a54e4451a95d0e623e3e2d985",
       "version_major": 2,
       "version_minor": 0
      },
      "text/plain": [
       "VBox(children=(HBox(children=(VBox(children=(Text(value='', description='Curly Input'), Button(description='Su…"
      ]
     },
     "metadata": {},
     "output_type": "display_data"
    }
   ],
   "source": [
    "nt.create_single_curly_ui(db)"
   ]
  },
  {
   "cell_type": "code",
   "execution_count": 7,
   "metadata": {},
   "outputs": [],
   "source": [
    "# # all the cards\n",
    "\n",
    "from citutils.cards import generate_cards\n",
    "from citutils.database import create_tinydb\n",
    "from tinydb import Query\n",
    "\n",
    "query = Query()\n",
    "db = create_tinydb()\n",
    "generate_cards(db.search(~query.meta_tags.any(\"deprecated\")))"
   ]
  }
 ],
 "metadata": {
  "kernelspec": {
   "display_name": ".venv",
   "language": "python",
   "name": "python3"
  },
  "language_info": {
   "codemirror_mode": {
    "name": "ipython",
    "version": 3
   },
   "file_extension": ".py",
   "mimetype": "text/x-python",
   "name": "python",
   "nbconvert_exporter": "python",
   "pygments_lexer": "ipython3",
   "version": "3.10.7"
  },
  "orig_nbformat": 4
 },
 "nbformat": 4,
 "nbformat_minor": 2
}
