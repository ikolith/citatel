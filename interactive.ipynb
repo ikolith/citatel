{
 "cells": [
  {
   "cell_type": "markdown",
   "metadata": {},
   "source": []
  },
  {
   "cell_type": "code",
   "execution_count": 7,
   "metadata": {},
   "outputs": [],
   "source": [
    "# imports\n",
    "from IPython.display import display\n",
    "import ipywidgets as widgets\n"
   ]
  },
  {
   "cell_type": "markdown",
   "metadata": {},
   "source": [
    "## Usage\n",
    "\n",
    "This Jupyter Notebook allows you to run code snippets in the browser. It uses TinyDB to handle searching and filtering entities (weapons, npcs, items, etc). TinyDB is not used to insert new entities or update existing ones. It is more annoying to do these things through TinyDB than just editing the `db.json` directly. "
   ]
  },
  {
   "cell_type": "markdown",
   "metadata": {},
   "source": [
    "**Initialize Default DB**"
   ]
  },
  {
   "cell_type": "code",
   "execution_count": 8,
   "metadata": {},
   "outputs": [],
   "source": [
    "import citutils.database as dt\n",
    "\n",
    "db = dt.DB()"
   ]
  },
  {
   "cell_type": "code",
   "execution_count": 9,
   "metadata": {},
   "outputs": [],
   "source": [
    "import citutils.notebook as nt\n",
    "import citutils.database as dt\n",
    "\n",
    "# nt.create_filter_ui(\n",
    "#     db, nt.entity_dict, dt.get_unique_array_field_values(db), preselect_basic=True\n",
    "# )"
   ]
  },
  {
   "cell_type": "code",
   "execution_count": 10,
   "metadata": {},
   "outputs": [],
   "source": [
    "collection_lb = nt.create_cards_ui()\n"
   ]
  },
  {
   "cell_type": "code",
   "execution_count": 11,
   "metadata": {},
   "outputs": [
    {
     "data": {
      "application/vnd.jupyter.widget-view+json": {
       "model_id": "dded0aea656b44d1ad3aace03dcb7d27",
       "version_major": 2,
       "version_minor": 0
      },
      "text/plain": [
       "VBox(children=(HBox(children=(VBox(children=(Text(value='', description='Curly Input'), Button(description='Su…"
      ]
     },
     "execution_count": 11,
     "metadata": {},
     "output_type": "execute_result"
    }
   ],
   "source": [
    "nt.create_single_curly_ui(db)\n",
    "# should have options \n",
    "# "
   ]
  },
  {
   "cell_type": "code",
   "execution_count": 12,
   "metadata": {},
   "outputs": [],
   "source": [
    "# # all the cards\n",
    "\n",
    "from citutils.cards import generate_cards\n",
    "\n",
    "from tinydb import Query\n",
    "\n",
    "query = Query()\n",
    "db = dt.DB()\n",
    "generate_cards(db.search(~query.meta_tags.any(\"deprecated\")))"
   ]
  },
  {
   "cell_type": "code",
   "execution_count": null,
   "metadata": {},
   "outputs": [],
   "source": []
  }
 ],
 "metadata": {
  "kernelspec": {
   "display_name": ".venv",
   "language": "python",
   "name": "python3"
  },
  "language_info": {
   "codemirror_mode": {
    "name": "ipython",
    "version": 3
   },
   "file_extension": ".py",
   "mimetype": "text/x-python",
   "name": "python",
   "nbconvert_exporter": "python",
   "pygments_lexer": "ipython3",
   "version": "3.11.7"
  },
  "orig_nbformat": 4
 },
 "nbformat": 4,
 "nbformat_minor": 2
}
