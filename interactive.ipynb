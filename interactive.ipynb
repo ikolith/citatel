{
 "cells": [
  {
   "cell_type": "markdown",
   "metadata": {},
   "source": [
    "## TODO:\n",
    "\n",
    "---- (09/20)\n",
    "\n",
    "\"Rework the card generation, etc, to work with arrays/lists better\"\n",
    "\n",
    "1. Make sure \"curly parsing\" works (\"curly\" in the cli). DONE\n",
    "   - Should be able to parse curlies and fetch entities. \n",
    "2. Query for sets of entities using TinyDB.\n",
    "   - Includes, at minimum, being able to fetch entities by clean_name and filtering through meta_tag(s)\n",
    "3. Save sets of entities (this used to be the job of \"enlist\" in the cli.)\n",
    "4. Dynamically generate markdown and latex for entities (required for complete \"curly\" generation and card generation).\n",
    "5. Create cards through interactive notebook.\n",
    "\n",
    "mypy type checking specific for tinydb??\n",
    "https://tinydb.readthedocs.io/en/latest/usage.html#mypy-type-checking\n",
    "\n",
    "make this standard\n",
    "https://emekdahl.medium.com/how-to-lint-your-jupyter-notebook-with-python-black-70a7deb45734\n",
    "\n",
    "--- (09/26)\n",
    "\n",
    "deleted commands.py, notes here about what was useful in it. call what enlist used to make a \"collection\". its just the result of a query. a list of Docs/entities.\n",
    "\n",
    "defunctions: \n",
    "   - filter_entities_by_filter_tags, just filtering entities, needs to be replaced by more querying funcitons in database.py\n",
    "   - enlist, save sets of entities, lists of entities.\n",
    "   - filter_generate_cards, just uses cr.generate_cards, filtering through entities first, doig this needs to be relatively easy\n",
    "   - enlist_generate_cards, generate cards based on a pre-existing list\n",
    "\n",
    "\n"
   ]
  },
  {
   "cell_type": "markdown",
   "metadata": {},
   "source": []
  },
  {
   "cell_type": "code",
   "execution_count": 1,
   "metadata": {},
   "outputs": [],
   "source": [
    "# imports\n",
    "from IPython.display import display\n",
    "import ipywidgets as widgets"
   ]
  },
  {
   "cell_type": "markdown",
   "metadata": {},
   "source": [
    "## Usage\n",
    "\n",
    "This Jupyter Notebook allows you to run code snippets in the browser. It uses TinyDB to handle searching and filtering entities (weapons, npcs, items, etc). TinyDB is not used to insert new entities or update existing ones. It is more annoying to do these things through TinyDB than just editing the `db.json` directly. "
   ]
  },
  {
   "cell_type": "markdown",
   "metadata": {},
   "source": [
    "**Initialize Default DB**"
   ]
  },
  {
   "cell_type": "code",
   "execution_count": 2,
   "metadata": {},
   "outputs": [],
   "source": [
    "from citutils.database import create_tinydb\n",
    "\n",
    "db = create_tinydb()"
   ]
  },
  {
   "cell_type": "code",
   "execution_count": 3,
   "metadata": {},
   "outputs": [
    {
     "data": {
      "application/vnd.jupyter.widget-view+json": {
       "model_id": "8cab1e031dbf450d9a9d328cf35b0f18",
       "version_major": 2,
       "version_minor": 0
      },
      "text/plain": [
       "VBox(children=(Text(value='', description='Name of Collection To Create', style=TextStyle(description_width='i…"
      ]
     },
     "metadata": {},
     "output_type": "display_data"
    }
   ],
   "source": [
    "import citutils.notebook as nt\n",
    "import citutils.database as dt\n",
    "\n",
    "nt.create_filter_ui(\n",
    "    db, nt.entity_dict, dt.get_unique_array_field_values(db), preselect_basic=True\n",
    ")"
   ]
  },
  {
   "cell_type": "markdown",
   "metadata": {},
   "source": []
  },
  {
   "cell_type": "code",
   "execution_count": 4,
   "metadata": {},
   "outputs": [
    {
     "data": {
      "application/vnd.jupyter.widget-view+json": {
       "model_id": "ea0dc7e06f804520816a311298627368",
       "version_major": 2,
       "version_minor": 0
      },
      "text/plain": [
       "Text(value='basic', description='Collection -> Cards', style=TextStyle(description_width='initial'))"
      ]
     },
     "metadata": {},
     "output_type": "display_data"
    },
    {
     "data": {
      "application/vnd.jupyter.widget-view+json": {
       "model_id": "6c4e50521e2b46aaadc1dc6b9d59ec4b",
       "version_major": 2,
       "version_minor": 0
      },
      "text/plain": [
       "LoadedButton(description='Submit', style=ButtonStyle())"
      ]
     },
     "metadata": {},
     "output_type": "display_data"
    },
    {
     "data": {
      "application/vnd.jupyter.widget-view+json": {
       "model_id": "15ddbe19c4c5449c817938e739b387df",
       "version_major": 2,
       "version_minor": 0
      },
      "text/plain": [
       "Output()"
      ]
     },
     "metadata": {},
     "output_type": "display_data"
    }
   ],
   "source": [
    "collection_lb = nt.create_cards_ui()"
   ]
  },
  {
   "cell_type": "code",
   "execution_count": null,
   "metadata": {},
   "outputs": [],
   "source": []
  },
  {
   "cell_type": "code",
   "execution_count": 5,
   "metadata": {},
   "outputs": [
    {
     "data": {
      "application/vnd.jupyter.widget-view+json": {
       "model_id": "9787cf1ea9184dba98e0bb7bffcd5b18",
       "version_major": 2,
       "version_minor": 0
      },
      "text/plain": [
       "VBox(children=(HBox(children=(VBox(children=(Text(value='', description='Curly Input'), Button(description='Su…"
      ]
     },
     "metadata": {},
     "output_type": "display_data"
    }
   ],
   "source": [
    "nt.create_single_curly_ui(db)"
   ]
  },
  {
   "cell_type": "code",
   "execution_count": null,
   "metadata": {},
   "outputs": [],
   "source": []
  }
 ],
 "metadata": {
  "kernelspec": {
   "display_name": ".venv",
   "language": "python",
   "name": "python3"
  },
  "language_info": {
   "codemirror_mode": {
    "name": "ipython",
    "version": 3
   },
   "file_extension": ".py",
   "mimetype": "text/x-python",
   "name": "python",
   "nbconvert_exporter": "python",
   "pygments_lexer": "ipython3",
   "version": "3.10.7"
  },
  "orig_nbformat": 4
 },
 "nbformat": 4,
 "nbformat_minor": 2
}
